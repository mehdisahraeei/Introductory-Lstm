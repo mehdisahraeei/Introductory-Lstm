{
 "cells": [
  {
   "cell_type": "markdown",
   "metadata": {
    "id": "-7U13h6dSTj1"
   },
   "source": [
    "# Simple LSTM\n",
    "### Importing"
   ]
  },
  {
   "cell_type": "code",
   "execution_count": 2,
   "metadata": {
    "id": "l9Dc5IV6RPzS"
   },
   "outputs": [],
   "source": [
    "from numpy import array\n",
    "from keras.models import Sequential\n",
    "from keras.layers import LSTM, Dense   "
   ]
  },
  {
   "cell_type": "markdown",
   "metadata": {
    "id": "M6i8nnCrXzdP"
   },
   "source": [
    "### method"
   ]
  },
  {
   "cell_type": "code",
   "execution_count": 19,
   "metadata": {
    "id": "ea43O2ogSdXb"
   },
   "outputs": [],
   "source": [
    "def split_sequence(sequence, n_step):\n",
    "   x,y = list(), list() #x is data and y is label\n",
    "   for i in range(len(sequence)):\n",
    "       end_ix = i + n_step\n",
    "   \n",
    "       if end_ix > len(sequence) - 1: # In this -if- we want if data be beyond len(sequence)-1, the command will not continue and break..\n",
    "          break\n",
    "       seq_x, seq_y = sequence[i:end_ix] , sequence[end_ix]   \n",
    "       x.append(seq_x)\n",
    "       y.append(seq_y)\n",
    "   return array(x) , array(y)"
   ]
  },
  {
   "cell_type": "markdown",
   "metadata": {
    "id": "kBgRWayoYKla"
   },
   "source": [
    "- making data x , y"
   ]
  },
  {
   "cell_type": "code",
   "execution_count": 20,
   "metadata": {
    "colab": {
     "base_uri": "https://localhost:8080/"
    },
    "id": "W_IYPR7-T_Ul",
    "outputId": "88ab7df8-c82a-4b7d-da27-a4e44953ea2f"
   },
   "outputs": [
    {
     "name": "stdout",
     "output_type": "stream",
     "text": [
      "[10 20 30] 40\n",
      "[20 30 40] 50\n",
      "[30 40 50] 60\n",
      "[40 50 60] 70\n",
      "[50 60 70] 80\n",
      "[60 70 80] 90\n"
     ]
    }
   ],
   "source": [
    "n_steps = 3 #timestep or look_up\n",
    "seq_value = [10,20,30,40,50,60,70,80,90]\n",
    "   \n",
    "x,y = split_sequence(seq_value , n_steps)\n",
    "\n",
    "for i in range(len(x)):   \n",
    "   print(x[i],y[i])"
   ]
  },
  {
   "cell_type": "code",
   "execution_count": 24,
   "metadata": {
    "colab": {
     "base_uri": "https://localhost:8080/"
    },
    "id": "nRQyVnphY-Vc",
    "outputId": "f078add9-272e-45ba-c798-ea5bb5fc121c"
   },
   "outputs": [
    {
     "name": "stdout",
     "output_type": "stream",
     "text": [
      "(6, 3)\n",
      "(6,)\n"
     ]
    }
   ],
   "source": [
    "print(x.shape)\n",
    "print(y.shape)"
   ]
  },
  {
   "cell_type": "markdown",
   "metadata": {
    "id": "ZGw5XAgcY7Od"
   },
   "source": [
    "### training model\n",
    "- vinila lstm"
   ]
  },
  {
   "cell_type": "code",
   "execution_count": 31,
   "metadata": {
    "colab": {
     "base_uri": "https://localhost:8080/"
    },
    "id": "qFEkSzNGZSPG",
    "outputId": "114a632f-5453-42ce-8775-777819ba5c1b"
   },
   "outputs": [
    {
     "data": {
      "text/plain": [
       "(6, 3, 1)"
      ]
     },
     "execution_count": 31,
     "metadata": {},
     "output_type": "execute_result"
    }
   ],
   "source": [
    "#The input must be three-dimensional or three-channel, that's why we reshape it\n",
    "n_features = 1 \n",
    "x = x.reshape(x.shape[0],x.shape[1],n_features) \n",
    "x.shape"
   ]
  },
  {
   "cell_type": "code",
   "execution_count": 39,
   "metadata": {
    "colab": {
     "base_uri": "https://localhost:8080/"
    },
    "id": "yS8LLIPyYWGr",
    "outputId": "f5ea0d46-a934-4433-8632-f615fbd4641c"
   },
   "outputs": [
    {
     "name": "stdout",
     "output_type": "stream",
     "text": [
      "Epoch 1/200\n",
      "1/1 [==============================] - 1s 1s/step - loss: 4504.0923\n",
      "Epoch 2/200\n",
      "1/1 [==============================] - 0s 9ms/step - loss: 4368.3706\n",
      "Epoch 3/200\n",
      "1/1 [==============================] - 0s 8ms/step - loss: 4231.6294\n",
      "Epoch 4/200\n",
      "1/1 [==============================] - 0s 15ms/step - loss: 4093.3274\n",
      "Epoch 5/200\n",
      "1/1 [==============================] - 0s 12ms/step - loss: 3952.8601\n",
      "Epoch 6/200\n",
      "1/1 [==============================] - 0s 9ms/step - loss: 3809.5371\n",
      "Epoch 7/200\n",
      "1/1 [==============================] - 0s 10ms/step - loss: 3662.5657\n",
      "Epoch 8/200\n",
      "1/1 [==============================] - 0s 9ms/step - loss: 3511.0183\n",
      "Epoch 9/200\n",
      "1/1 [==============================] - 0s 10ms/step - loss: 3353.8792\n",
      "Epoch 10/200\n",
      "1/1 [==============================] - 0s 8ms/step - loss: 3190.1379\n",
      "Epoch 11/200\n",
      "1/1 [==============================] - 0s 8ms/step - loss: 3018.9177\n",
      "Epoch 12/200\n",
      "1/1 [==============================] - 0s 9ms/step - loss: 2839.6292\n",
      "Epoch 13/200\n",
      "1/1 [==============================] - 0s 11ms/step - loss: 2652.1169\n",
      "Epoch 14/200\n",
      "1/1 [==============================] - 0s 8ms/step - loss: 2456.6960\n",
      "Epoch 15/200\n",
      "1/1 [==============================] - 0s 14ms/step - loss: 2253.9746\n",
      "Epoch 16/200\n",
      "1/1 [==============================] - 0s 10ms/step - loss: 2044.4990\n",
      "Epoch 17/200\n",
      "1/1 [==============================] - 0s 9ms/step - loss: 1828.4478\n",
      "Epoch 18/200\n",
      "1/1 [==============================] - 0s 14ms/step - loss: 1605.7887\n",
      "Epoch 19/200\n",
      "1/1 [==============================] - 0s 13ms/step - loss: 1377.1393\n",
      "Epoch 20/200\n",
      "1/1 [==============================] - 0s 12ms/step - loss: 1145.4823\n",
      "Epoch 21/200\n",
      "1/1 [==============================] - 0s 8ms/step - loss: 917.4290\n",
      "Epoch 22/200\n",
      "1/1 [==============================] - 0s 12ms/step - loss: 703.2217\n",
      "Epoch 23/200\n",
      "1/1 [==============================] - 0s 9ms/step - loss: 514.7216\n",
      "Epoch 24/200\n",
      "1/1 [==============================] - 0s 8ms/step - loss: 362.8767\n",
      "Epoch 25/200\n",
      "1/1 [==============================] - 0s 9ms/step - loss: 257.2769\n",
      "Epoch 26/200\n",
      "1/1 [==============================] - 0s 13ms/step - loss: 206.5738\n",
      "Epoch 27/200\n",
      "1/1 [==============================] - 0s 14ms/step - loss: 212.6755\n",
      "Epoch 28/200\n",
      "1/1 [==============================] - 0s 13ms/step - loss: 257.3790\n",
      "Epoch 29/200\n",
      "1/1 [==============================] - 0s 11ms/step - loss: 310.4047\n",
      "Epoch 30/200\n",
      "1/1 [==============================] - 0s 11ms/step - loss: 348.9041\n",
      "Epoch 31/200\n",
      "1/1 [==============================] - 0s 8ms/step - loss: 362.6467\n",
      "Epoch 32/200\n",
      "1/1 [==============================] - 0s 8ms/step - loss: 351.7356\n",
      "Epoch 33/200\n",
      "1/1 [==============================] - 0s 9ms/step - loss: 322.6202\n",
      "Epoch 34/200\n",
      "1/1 [==============================] - 0s 13ms/step - loss: 284.0479\n",
      "Epoch 35/200\n",
      "1/1 [==============================] - 0s 6ms/step - loss: 243.8582\n",
      "Epoch 36/200\n",
      "1/1 [==============================] - 0s 7ms/step - loss: 207.4670\n",
      "Epoch 37/200\n",
      "1/1 [==============================] - 0s 16ms/step - loss: 177.7908\n",
      "Epoch 38/200\n",
      "1/1 [==============================] - 0s 12ms/step - loss: 155.8411\n",
      "Epoch 39/200\n",
      "1/1 [==============================] - 0s 11ms/step - loss: 141.3237\n",
      "Epoch 40/200\n",
      "1/1 [==============================] - 0s 11ms/step - loss: 133.0782\n",
      "Epoch 41/200\n",
      "1/1 [==============================] - 0s 9ms/step - loss: 129.4906\n",
      "Epoch 42/200\n",
      "1/1 [==============================] - 0s 8ms/step - loss: 128.8871\n",
      "Epoch 43/200\n",
      "1/1 [==============================] - 0s 14ms/step - loss: 129.8086\n",
      "Epoch 44/200\n",
      "1/1 [==============================] - 0s 9ms/step - loss: 131.1383\n",
      "Epoch 45/200\n",
      "1/1 [==============================] - 0s 8ms/step - loss: 132.0695\n",
      "Epoch 46/200\n",
      "1/1 [==============================] - 0s 8ms/step - loss: 132.0695\n",
      "Epoch 47/200\n",
      "1/1 [==============================] - 0s 7ms/step - loss: 130.8328\n",
      "Epoch 48/200\n",
      "1/1 [==============================] - 0s 10ms/step - loss: 128.2435\n",
      "Epoch 49/200\n",
      "1/1 [==============================] - 0s 9ms/step - loss: 124.3333\n",
      "Epoch 50/200\n",
      "1/1 [==============================] - 0s 8ms/step - loss: 119.2575\n",
      "Epoch 51/200\n",
      "1/1 [==============================] - 0s 15ms/step - loss: 113.2789\n",
      "Epoch 52/200\n",
      "1/1 [==============================] - 0s 8ms/step - loss: 106.7387\n",
      "Epoch 53/200\n",
      "1/1 [==============================] - 0s 9ms/step - loss: 100.0537\n",
      "Epoch 54/200\n",
      "1/1 [==============================] - 0s 9ms/step - loss: 93.6408\n",
      "Epoch 55/200\n",
      "1/1 [==============================] - 0s 8ms/step - loss: 87.8364\n",
      "Epoch 56/200\n",
      "1/1 [==============================] - 0s 10ms/step - loss: 82.8249\n",
      "Epoch 57/200\n",
      "1/1 [==============================] - 0s 8ms/step - loss: 78.6706\n",
      "Epoch 58/200\n",
      "1/1 [==============================] - 0s 9ms/step - loss: 75.3219\n",
      "Epoch 59/200\n",
      "1/1 [==============================] - 0s 8ms/step - loss: 72.5399\n",
      "Epoch 60/200\n",
      "1/1 [==============================] - 0s 9ms/step - loss: 69.9867\n",
      "Epoch 61/200\n",
      "1/1 [==============================] - 0s 13ms/step - loss: 67.3130\n",
      "Epoch 62/200\n",
      "1/1 [==============================] - 0s 10ms/step - loss: 64.2467\n",
      "Epoch 63/200\n",
      "1/1 [==============================] - 0s 12ms/step - loss: 60.6286\n",
      "Epoch 64/200\n",
      "1/1 [==============================] - 0s 10ms/step - loss: 56.4512\n",
      "Epoch 65/200\n",
      "1/1 [==============================] - 0s 12ms/step - loss: 51.9224\n",
      "Epoch 66/200\n",
      "1/1 [==============================] - 0s 9ms/step - loss: 47.3654\n",
      "Epoch 67/200\n",
      "1/1 [==============================] - 0s 10ms/step - loss: 43.0424\n",
      "Epoch 68/200\n",
      "1/1 [==============================] - 0s 10ms/step - loss: 39.0886\n",
      "Epoch 69/200\n",
      "1/1 [==============================] - 0s 12ms/step - loss: 35.5077\n",
      "Epoch 70/200\n",
      "1/1 [==============================] - 0s 12ms/step - loss: 32.2467\n",
      "Epoch 71/200\n",
      "1/1 [==============================] - 0s 9ms/step - loss: 29.2423\n",
      "Epoch 72/200\n",
      "1/1 [==============================] - 0s 10ms/step - loss: 26.4381\n",
      "Epoch 73/200\n",
      "1/1 [==============================] - 0s 10ms/step - loss: 23.7934\n",
      "Epoch 74/200\n",
      "1/1 [==============================] - 0s 11ms/step - loss: 21.2920\n",
      "Epoch 75/200\n",
      "1/1 [==============================] - 0s 15ms/step - loss: 18.9468\n",
      "Epoch 76/200\n",
      "1/1 [==============================] - 0s 11ms/step - loss: 16.7977\n",
      "Epoch 77/200\n",
      "1/1 [==============================] - 0s 10ms/step - loss: 14.9008\n",
      "Epoch 78/200\n",
      "1/1 [==============================] - 0s 8ms/step - loss: 13.3023\n",
      "Epoch 79/200\n",
      "1/1 [==============================] - 0s 11ms/step - loss: 12.0051\n",
      "Epoch 80/200\n",
      "1/1 [==============================] - 0s 10ms/step - loss: 10.9552\n",
      "Epoch 81/200\n",
      "1/1 [==============================] - 0s 10ms/step - loss: 10.0716\n",
      "Epoch 82/200\n",
      "1/1 [==============================] - 0s 10ms/step - loss: 9.3007\n",
      "Epoch 83/200\n",
      "1/1 [==============================] - 0s 9ms/step - loss: 8.6371\n",
      "Epoch 84/200\n",
      "1/1 [==============================] - 0s 11ms/step - loss: 8.0907\n",
      "Epoch 85/200\n",
      "1/1 [==============================] - 0s 15ms/step - loss: 7.6420\n",
      "Epoch 86/200\n",
      "1/1 [==============================] - 0s 10ms/step - loss: 7.2363\n",
      "Epoch 87/200\n",
      "1/1 [==============================] - 0s 12ms/step - loss: 6.8103\n",
      "Epoch 88/200\n",
      "1/1 [==============================] - 0s 9ms/step - loss: 6.3426\n",
      "Epoch 89/200\n",
      "1/1 [==============================] - 0s 9ms/step - loss: 5.8681\n",
      "Epoch 90/200\n",
      "1/1 [==============================] - 0s 10ms/step - loss: 5.4400\n",
      "Epoch 91/200\n",
      "1/1 [==============================] - 0s 9ms/step - loss: 5.0805\n",
      "Epoch 92/200\n",
      "1/1 [==============================] - 0s 11ms/step - loss: 4.7731\n",
      "Epoch 93/200\n",
      "1/1 [==============================] - 0s 10ms/step - loss: 4.4937\n",
      "Epoch 94/200\n",
      "1/1 [==============================] - 0s 10ms/step - loss: 4.2325\n",
      "Epoch 95/200\n",
      "1/1 [==============================] - 0s 10ms/step - loss: 3.9927\n",
      "Epoch 96/200\n",
      "1/1 [==============================] - 0s 12ms/step - loss: 3.7791\n",
      "Epoch 97/200\n",
      "1/1 [==============================] - 0s 10ms/step - loss: 3.5906\n",
      "Epoch 98/200\n",
      "1/1 [==============================] - 0s 12ms/step - loss: 3.4204\n",
      "Epoch 99/200\n",
      "1/1 [==============================] - 0s 9ms/step - loss: 3.2607\n",
      "Epoch 100/200\n",
      "1/1 [==============================] - 0s 9ms/step - loss: 3.1066\n",
      "Epoch 101/200\n",
      "1/1 [==============================] - 0s 9ms/step - loss: 2.9580\n",
      "Epoch 102/200\n",
      "1/1 [==============================] - 0s 13ms/step - loss: 2.8178\n",
      "Epoch 103/200\n",
      "1/1 [==============================] - 0s 12ms/step - loss: 2.6894\n",
      "Epoch 104/200\n",
      "1/1 [==============================] - 0s 11ms/step - loss: 2.5738\n",
      "Epoch 105/200\n",
      "1/1 [==============================] - 0s 13ms/step - loss: 2.4688\n",
      "Epoch 106/200\n",
      "1/1 [==============================] - 0s 16ms/step - loss: 2.3707\n",
      "Epoch 107/200\n",
      "1/1 [==============================] - 0s 9ms/step - loss: 2.2763\n",
      "Epoch 108/200\n",
      "1/1 [==============================] - 0s 9ms/step - loss: 2.1843\n",
      "Epoch 109/200\n",
      "1/1 [==============================] - 0s 18ms/step - loss: 2.0954\n",
      "Epoch 110/200\n",
      "1/1 [==============================] - 0s 16ms/step - loss: 2.0114\n",
      "Epoch 111/200\n",
      "1/1 [==============================] - 0s 14ms/step - loss: 1.9334\n",
      "Epoch 112/200\n",
      "1/1 [==============================] - 0s 12ms/step - loss: 1.8612\n",
      "Epoch 113/200\n",
      "1/1 [==============================] - 0s 10ms/step - loss: 1.7936\n",
      "Epoch 114/200\n",
      "1/1 [==============================] - 0s 10ms/step - loss: 1.7292\n",
      "Epoch 115/200\n",
      "1/1 [==============================] - 0s 10ms/step - loss: 1.6667\n",
      "Epoch 116/200\n",
      "1/1 [==============================] - 0s 9ms/step - loss: 1.6064\n",
      "Epoch 117/200\n",
      "1/1 [==============================] - 0s 8ms/step - loss: 1.5486\n",
      "Epoch 118/200\n",
      "1/1 [==============================] - 0s 10ms/step - loss: 1.4943\n",
      "Epoch 119/200\n",
      "1/1 [==============================] - 0s 13ms/step - loss: 1.4436\n",
      "Epoch 120/200\n",
      "1/1 [==============================] - 0s 11ms/step - loss: 1.3962\n",
      "Epoch 121/200\n",
      "1/1 [==============================] - 0s 12ms/step - loss: 1.3514\n",
      "Epoch 122/200\n",
      "1/1 [==============================] - 0s 10ms/step - loss: 1.3084\n",
      "Epoch 123/200\n",
      "1/1 [==============================] - 0s 12ms/step - loss: 1.2671\n",
      "Epoch 124/200\n",
      "1/1 [==============================] - 0s 12ms/step - loss: 1.2274\n",
      "Epoch 125/200\n",
      "1/1 [==============================] - 0s 10ms/step - loss: 1.1897\n",
      "Epoch 126/200\n",
      "1/1 [==============================] - 0s 11ms/step - loss: 1.1543\n",
      "Epoch 127/200\n",
      "1/1 [==============================] - 0s 12ms/step - loss: 1.1209\n",
      "Epoch 128/200\n",
      "1/1 [==============================] - 0s 12ms/step - loss: 1.0893\n",
      "Epoch 129/200\n",
      "1/1 [==============================] - 0s 8ms/step - loss: 1.0592\n",
      "Epoch 130/200\n",
      "1/1 [==============================] - 0s 13ms/step - loss: 1.0301\n",
      "Epoch 131/200\n",
      "1/1 [==============================] - 0s 12ms/step - loss: 1.0021\n",
      "Epoch 132/200\n",
      "1/1 [==============================] - 0s 11ms/step - loss: 0.9753\n",
      "Epoch 133/200\n",
      "1/1 [==============================] - 0s 11ms/step - loss: 0.9498\n",
      "Epoch 134/200\n",
      "1/1 [==============================] - 0s 11ms/step - loss: 0.9256\n",
      "Epoch 135/200\n",
      "1/1 [==============================] - 0s 12ms/step - loss: 0.9026\n",
      "Epoch 136/200\n",
      "1/1 [==============================] - 0s 9ms/step - loss: 0.8805\n",
      "Epoch 137/200\n",
      "1/1 [==============================] - 0s 13ms/step - loss: 0.8592\n",
      "Epoch 138/200\n",
      "1/1 [==============================] - 0s 11ms/step - loss: 0.8386\n",
      "Epoch 139/200\n",
      "1/1 [==============================] - 0s 11ms/step - loss: 0.8187\n",
      "Epoch 140/200\n",
      "1/1 [==============================] - 0s 13ms/step - loss: 0.7997\n",
      "Epoch 141/200\n",
      "1/1 [==============================] - 0s 15ms/step - loss: 0.7816\n",
      "Epoch 142/200\n",
      "1/1 [==============================] - 0s 12ms/step - loss: 0.7642\n",
      "Epoch 143/200\n",
      "1/1 [==============================] - 0s 13ms/step - loss: 0.7474\n",
      "Epoch 144/200\n",
      "1/1 [==============================] - 0s 10ms/step - loss: 0.7312\n",
      "Epoch 145/200\n",
      "1/1 [==============================] - 0s 12ms/step - loss: 0.7156\n",
      "Epoch 146/200\n",
      "1/1 [==============================] - 0s 11ms/step - loss: 0.7004\n",
      "Epoch 147/200\n",
      "1/1 [==============================] - 0s 10ms/step - loss: 0.6858\n",
      "Epoch 148/200\n",
      "1/1 [==============================] - 0s 10ms/step - loss: 0.6718\n",
      "Epoch 149/200\n",
      "1/1 [==============================] - 0s 10ms/step - loss: 0.6582\n",
      "Epoch 150/200\n",
      "1/1 [==============================] - 0s 12ms/step - loss: 0.6451\n",
      "Epoch 151/200\n",
      "1/1 [==============================] - 0s 11ms/step - loss: 0.6323\n",
      "Epoch 152/200\n",
      "1/1 [==============================] - 0s 11ms/step - loss: 0.6199\n",
      "Epoch 153/200\n",
      "1/1 [==============================] - 0s 10ms/step - loss: 0.6079\n",
      "Epoch 154/200\n",
      "1/1 [==============================] - 0s 11ms/step - loss: 0.5962\n",
      "Epoch 155/200\n",
      "1/1 [==============================] - 0s 12ms/step - loss: 0.5849\n",
      "Epoch 156/200\n",
      "1/1 [==============================] - 0s 12ms/step - loss: 0.5739\n",
      "Epoch 157/200\n",
      "1/1 [==============================] - 0s 10ms/step - loss: 0.5631\n",
      "Epoch 158/200\n",
      "1/1 [==============================] - 0s 13ms/step - loss: 0.5527\n",
      "Epoch 159/200\n",
      "1/1 [==============================] - 0s 12ms/step - loss: 0.5425\n",
      "Epoch 160/200\n",
      "1/1 [==============================] - 0s 10ms/step - loss: 0.5326\n",
      "Epoch 161/200\n",
      "1/1 [==============================] - 0s 12ms/step - loss: 0.5229\n",
      "Epoch 162/200\n",
      "1/1 [==============================] - 0s 12ms/step - loss: 0.5134\n",
      "Epoch 163/200\n",
      "1/1 [==============================] - 0s 10ms/step - loss: 0.5042\n",
      "Epoch 164/200\n",
      "1/1 [==============================] - 0s 12ms/step - loss: 0.4952\n",
      "Epoch 165/200\n",
      "1/1 [==============================] - 0s 10ms/step - loss: 0.4863\n",
      "Epoch 166/200\n",
      "1/1 [==============================] - 0s 16ms/step - loss: 0.4777\n",
      "Epoch 167/200\n",
      "1/1 [==============================] - 0s 12ms/step - loss: 0.4692\n",
      "Epoch 168/200\n",
      "1/1 [==============================] - 0s 11ms/step - loss: 0.4609\n",
      "Epoch 169/200\n",
      "1/1 [==============================] - 0s 11ms/step - loss: 0.4528\n",
      "Epoch 170/200\n",
      "1/1 [==============================] - 0s 22ms/step - loss: 0.4449\n",
      "Epoch 171/200\n",
      "1/1 [==============================] - 0s 9ms/step - loss: 0.4371\n",
      "Epoch 172/200\n",
      "1/1 [==============================] - 0s 9ms/step - loss: 0.4294\n",
      "Epoch 173/200\n",
      "1/1 [==============================] - 0s 10ms/step - loss: 0.4219\n",
      "Epoch 174/200\n",
      "1/1 [==============================] - 0s 11ms/step - loss: 0.4146\n",
      "Epoch 175/200\n",
      "1/1 [==============================] - 0s 9ms/step - loss: 0.4074\n",
      "Epoch 176/200\n",
      "1/1 [==============================] - 0s 11ms/step - loss: 0.4003\n",
      "Epoch 177/200\n",
      "1/1 [==============================] - 0s 12ms/step - loss: 0.3933\n",
      "Epoch 178/200\n",
      "1/1 [==============================] - 0s 13ms/step - loss: 0.3865\n",
      "Epoch 179/200\n",
      "1/1 [==============================] - 0s 12ms/step - loss: 0.3798\n",
      "Epoch 180/200\n",
      "1/1 [==============================] - 0s 17ms/step - loss: 0.3731\n",
      "Epoch 181/200\n",
      "1/1 [==============================] - 0s 11ms/step - loss: 0.3667\n",
      "Epoch 182/200\n",
      "1/1 [==============================] - 0s 14ms/step - loss: 0.3603\n",
      "Epoch 183/200\n",
      "1/1 [==============================] - 0s 12ms/step - loss: 0.3540\n",
      "Epoch 184/200\n",
      "1/1 [==============================] - 0s 9ms/step - loss: 0.3478\n",
      "Epoch 185/200\n",
      "1/1 [==============================] - 0s 15ms/step - loss: 0.3417\n",
      "Epoch 186/200\n",
      "1/1 [==============================] - 0s 13ms/step - loss: 0.3358\n",
      "Epoch 187/200\n",
      "1/1 [==============================] - 0s 13ms/step - loss: 0.3299\n",
      "Epoch 188/200\n",
      "1/1 [==============================] - 0s 11ms/step - loss: 0.3241\n",
      "Epoch 189/200\n",
      "1/1 [==============================] - 0s 10ms/step - loss: 0.3184\n",
      "Epoch 190/200\n",
      "1/1 [==============================] - 0s 9ms/step - loss: 0.3128\n",
      "Epoch 191/200\n",
      "1/1 [==============================] - 0s 12ms/step - loss: 0.3073\n",
      "Epoch 192/200\n",
      "1/1 [==============================] - 0s 11ms/step - loss: 0.3018\n",
      "Epoch 193/200\n",
      "1/1 [==============================] - 0s 9ms/step - loss: 0.2965\n",
      "Epoch 194/200\n",
      "1/1 [==============================] - 0s 11ms/step - loss: 0.2912\n",
      "Epoch 195/200\n",
      "1/1 [==============================] - 0s 11ms/step - loss: 0.2860\n",
      "Epoch 196/200\n",
      "1/1 [==============================] - 0s 10ms/step - loss: 0.2809\n",
      "Epoch 197/200\n",
      "1/1 [==============================] - 0s 13ms/step - loss: 0.2759\n",
      "Epoch 198/200\n",
      "1/1 [==============================] - 0s 12ms/step - loss: 0.2710\n",
      "Epoch 199/200\n",
      "1/1 [==============================] - 0s 12ms/step - loss: 0.2661\n",
      "Epoch 200/200\n",
      "1/1 [==============================] - 0s 12ms/step - loss: 0.2613\n"
     ]
    },
    {
     "data": {
      "text/plain": [
       "<keras.callbacks.History at 0x7fb51325b1c0>"
      ]
     },
     "execution_count": 39,
     "metadata": {},
     "output_type": "execute_result"
    }
   ],
   "source": [
    "model = Sequential()\n",
    "model.add(LSTM(100, activation = 'relu', input_shape=(n_steps,n_features)))  \n",
    "\n",
    "model.add(Dense(1)) #n-output  \n",
    "   \n",
    "model.compile(optimizer='adam',loss='mse')   \n",
    "model.fit(x,y,epochs=200,verbose=1) #verbose is the choice that how you want to see the output of your Nural Network while it's training. If you set verbose = 0, It will show nothing"
   ]
  },
  {
   "cell_type": "markdown",
   "metadata": {
    "id": "3jNLOEsUbyEF"
   },
   "source": [
    "### testing"
   ]
  },
  {
   "cell_type": "code",
   "execution_count": 54,
   "metadata": {
    "id": "hFkKJBiqai0A"
   },
   "outputs": [],
   "source": [
    "x_input = array([20,30,40])\n",
    "x_input = x_input.reshape(1,n_steps,n_features)"
   ]
  },
  {
   "cell_type": "code",
   "execution_count": 55,
   "metadata": {
    "colab": {
     "base_uri": "https://localhost:8080/"
    },
    "id": "8MtBDzaNbL_J",
    "outputId": "f7b47425-a339-4060-ab87-4dbd24a8d30a"
   },
   "outputs": [
    {
     "data": {
      "text/plain": [
       "(1, 3, 1)"
      ]
     },
     "execution_count": 55,
     "metadata": {},
     "output_type": "execute_result"
    }
   ],
   "source": [
    "x_input.shape"
   ]
  },
  {
   "cell_type": "code",
   "execution_count": 56,
   "metadata": {
    "colab": {
     "base_uri": "https://localhost:8080/"
    },
    "id": "-QZEIjzRbWYf",
    "outputId": "48953f21-5789-41a3-a945-db6457a31145"
   },
   "outputs": [
    {
     "name": "stdout",
     "output_type": "stream",
     "text": [
      "predicted: [[50.773876]]\n",
      "real: 50\n"
     ]
    }
   ],
   "source": [
    "yhat = model.predict(x_input, verbose=0)\n",
    "print('predicted:',yhat)\n",
    "print('real:',y[1])"
   ]
  }
 ],
 "metadata": {
  "colab": {
   "provenance": []
  },
  "kernelspec": {
   "display_name": "Python 3 (ipykernel)",
   "language": "python",
   "name": "python3"
  },
  "language_info": {
   "codemirror_mode": {
    "name": "ipython",
    "version": 3
   },
   "file_extension": ".py",
   "mimetype": "text/x-python",
   "name": "python",
   "nbconvert_exporter": "python",
   "pygments_lexer": "ipython3",
   "version": "3.8.10"
  }
 },
 "nbformat": 4,
 "nbformat_minor": 1
}
